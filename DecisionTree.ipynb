{
 "cells": [
  {
   "cell_type": "markdown",
   "metadata": {},
   "source": [
    "# Decision Tree"
   ]
  },
  {
   "cell_type": "markdown",
   "metadata": {},
   "source": [
    "**Author:** Elisa Warner  \n",
    "**Date:** 04/21/2022  \n",
    "**Description:** In this code, I attempt to build a Decision Tree from scratch. Note that the code is not optimally written. However, it is designed to be relatively easy to read. I will be using the breast cancer dataset from sklearn datasets and creating binary trees  \n",
    "\n",
    "Note:  \n",
    "1. This only works for binary cases  \n",
    "2. There is one funny thing this code does. The model will try to reach the depth that the user has specified, but in some cases, there is a node which already contains all of the same class. Since it will try to continue on, it overfits a little, and it will still try to split the node (at the lowest threshold seen in the training set). So, you can guess that there is one class, the only class that exists there, which will have another child, but the absent class will not have a child (imagine a single split rather than a binary split). So, in this case, when I assess the model, if it turns out that for some reason I have a test example which is lower than the threshold, it doesn't have a node to go to. So what I do is I just assign it to the mode class of the node that it is stuck at."
   ]
  },
  {
   "cell_type": "code",
   "execution_count": 930,
   "metadata": {},
   "outputs": [],
   "source": [
    "# load libraries\n",
    "from sklearn.datasets import load_breast_cancer\n",
    "import pandas as pd\n",
    "import numpy as np\n",
    "np.random.seed(100)"
   ]
  },
  {
   "cell_type": "code",
   "execution_count": 931,
   "metadata": {},
   "outputs": [],
   "source": [
    "# load data\n",
    "X,y = load_breast_cancer(return_X_y=True, as_frame=True)"
   ]
  },
  {
   "cell_type": "code",
   "execution_count": 932,
   "metadata": {},
   "outputs": [
    {
     "name": "stdout",
     "output_type": "stream",
     "text": [
      "Features: 30\n",
      "Classes: 2\n",
      "Shape: (569, 30)\n"
     ]
    }
   ],
   "source": [
    "print(\"Features: \" + str(N) + \"\\nClasses: \" + str(K) + '\\nShape: ' + str(X.shape))"
   ]
  },
  {
   "cell_type": "code",
   "execution_count": 933,
   "metadata": {},
   "outputs": [],
   "source": [
    "# set hyperparameters\n",
    "D = 3 # depth\n",
    "N = X.shape[1] # number of features in the bag"
   ]
  },
  {
   "cell_type": "code",
   "execution_count": 934,
   "metadata": {},
   "outputs": [],
   "source": [
    "# Do a 30% split\n",
    "p = 0.3"
   ]
  },
  {
   "cell_type": "code",
   "execution_count": 935,
   "metadata": {},
   "outputs": [],
   "source": [
    "# separate into training and testing sets\n",
    "idx = y.index.values\n",
    "test_idx = np.random.choice(idx, int(p * X.shape[0]), replace = False)\n",
    "idx = [x for x in idx if x not in test_idx]\n",
    "\n",
    "test_X = X.loc[test_idx]\n",
    "test_y = y.loc[test_idx]\n",
    "X = X.loc[idx]\n",
    "y = y.loc[idx]"
   ]
  },
  {
   "cell_type": "code",
   "execution_count": 936,
   "metadata": {},
   "outputs": [
    {
     "name": "stdout",
     "output_type": "stream",
     "text": [
      "There are 569 total rows with training and testing combined\n"
     ]
    }
   ],
   "source": [
    "# QC: confirm that they add up to 569\n",
    "print(\"There are %s total rows with training and testing combined\" % (X.shape[0] + test_X.shape[0]))"
   ]
  },
  {
   "cell_type": "code",
   "execution_count": 937,
   "metadata": {},
   "outputs": [],
   "source": [
    "# should only take in info for that child\n",
    "class Child():\n",
    "    def __init__(self, data, labels, name):\n",
    "        self.data = data\n",
    "        self.labels = labels\n",
    "        self.K = pd.unique(labels) # list of labels\n",
    "        self.name = name\n",
    "        \n",
    "    def __str__(self):\n",
    "        return \"Rows: \" + str(self.data.shape[0]) + \" \\nFeatures: \" + str(self.data.shape[1])\n",
    "    \n",
    "    def calc_gini_child(self):\n",
    "        tot = 0\n",
    "        # idx\n",
    "        idx = self.labels.index.values\n",
    "        rowSize = self.data.shape[0]\n",
    "        \n",
    "        if rowSize == 0:\n",
    "            return 0\n",
    "        \n",
    "        for label in self.K:\n",
    "            sub_idx = self.labels[self.labels == label].index.values\n",
    "            regionDataClass = self.data.loc[sub_idx]\n",
    "            subtot = (regionDataClass.shape[0] / rowSize) * (1 - (regionDataClass.shape[0] / rowSize) )\n",
    "            tot += subtot\n",
    "        \n",
    "        return tot"
   ]
  },
  {
   "cell_type": "markdown",
   "metadata": {},
   "source": [
    "Notes: If you do RF in the future, RF should do bootstrapping and bagging"
   ]
  },
  {
   "cell_type": "code",
   "execution_count": 938,
   "metadata": {},
   "outputs": [],
   "source": [
    "# Node should decide the split\n",
    "class Node():\n",
    "    def __init__(self, data, labels, level, name):\n",
    "        self.data = data\n",
    "        self.labels = labels\n",
    "        self.level = level\n",
    "        self.name = name + \"_%s\" % level\n",
    "        \n",
    "        if level < 0:\n",
    "            return 0\n",
    "        \n",
    "    def __str__(self):\n",
    "        return \"Rows: \" + str(self.data.shape[0]) + \" \\nFeatures: \" + str(self.data.shape[1])\n",
    "    \n",
    "    # determine the feature and split criteria and this will create leaves and also calculate the GINI index\n",
    "    def calc_gini_branch(self, splitAt, splitBy): # binary tree\n",
    "        tot = 0\n",
    "        \n",
    "        # split 1\n",
    "        childData1 = self.data[self.data[splitAt] >= splitBy]\n",
    "        names = [z for z in self.features if z != splitAt]\n",
    "        childData1 = childData1[names]\n",
    "        childLabels1 = self.labels.loc[childData1.index.values]\n",
    "        \n",
    "        x1 = Child(childData1, childLabels1, self.name+'+%s' % 1)\n",
    "        tot += x1.calc_gini_child()\n",
    "        \n",
    "        # split 0\n",
    "        childData0 = self.data[self.data[splitAt] < splitBy][names]\n",
    "        childLabels0 = self.labels.loc[childData0.index.values]\n",
    "        \n",
    "        x0 = Child(childData0, childLabels0, self.name+'+%s' % 0)\n",
    "        tot += x0.calc_gini_child()\n",
    "        \n",
    "        return (tot, x0, x1)\n",
    "    \n",
    "    # determines the best split criteria\n",
    "    def split_node(self):\n",
    "        lowestSplit = (None, np.inf, np.inf) # (feature, gini, splitCriterion)\n",
    "        self.features = list(self.data)\n",
    "        \n",
    "        for layer in range(len(list(self.data))):\n",
    "            chosenFeature = self.features[layer]\n",
    "            values = pd.unique(self.data[chosenFeature].values)\n",
    "            values.sort()\n",
    "                        \n",
    "            for v in values:\n",
    "                gini =  self.calc_gini_branch(chosenFeature, v)\n",
    "                if gini[0] < lowestSplit[1]:\n",
    "                    lowestSplit = (chosenFeature, gini[0], v)\n",
    "        \n",
    "        if lowestSplit[0] != None:\n",
    "            print(self.level,lowestSplit)\n",
    "            MODEL[self.name] = lowestSplit\n",
    "            \n",
    "            outClass_idx = self.labels.value_counts().argmax()\n",
    "            outClass = self.labels.value_counts().index[outClass_idx]\n",
    "            MODEL['end+%s' % self.name] = outClass\n",
    "            \n",
    "        return lowestSplit"
   ]
  },
  {
   "cell_type": "code",
   "execution_count": 943,
   "metadata": {},
   "outputs": [],
   "source": [
    "class Tree():\n",
    "    def __init__(self, data, labels):\n",
    "        self.data = data\n",
    "        self.labels = labels\n",
    "        self.D = D-1\n",
    "    \n",
    "    def __str__(self):\n",
    "        return \"Rows: \" + str(self.data.shape[0]) + \" \\nFeatures: \" + str(self.data.shape[1]) + \"\\nDepth: \" + str(self.D)\n",
    "    \n",
    "    def createTree(self):\n",
    "        model = []\n",
    "        \n",
    "        # choose D features w/o replacement\n",
    "        features = list(self.data)\n",
    "        features = np.random.choice(features, N, replace = False)\n",
    "        self.data = self.data[features] # limit tree to only these features\n",
    "        \n",
    "        node = Node(self.data, self.labels, self.D, \"N\")\n",
    "        self.train(node, self.D) # train the tree\n",
    "        \n",
    "    def train(self, node, level):\n",
    "        split = node.split_node()\n",
    "        children = list(node.calc_gini_branch(split[0], split[2]))[1:]\n",
    "\n",
    "        for child in children:\n",
    "            node = Node(child.data, child.labels, level-1, child.name)\n",
    "            try:\n",
    "                self.train(node, level-1)\n",
    "            except:\n",
    "                continue"
   ]
  },
  {
   "cell_type": "markdown",
   "metadata": {},
   "source": [
    "# Create the Model"
   ]
  },
  {
   "cell_type": "code",
   "execution_count": 944,
   "metadata": {},
   "outputs": [],
   "source": [
    "MODEL = {} # in case you need to reset the model"
   ]
  },
  {
   "cell_type": "code",
   "execution_count": 945,
   "metadata": {},
   "outputs": [],
   "source": [
    "x = Tree(X, y)"
   ]
  },
  {
   "cell_type": "markdown",
   "metadata": {},
   "source": [
    "Description of output in the cell below: The first number will be the depth level of the node. The second part is a tuple which contains the feature used to split the node, the GINI index of this feature as a classifier, and the cutoff point of that feature for splitting the node."
   ]
  },
  {
   "cell_type": "code",
   "execution_count": 946,
   "metadata": {},
   "outputs": [
    {
     "name": "stdout",
     "output_type": "stream",
     "text": [
      "2 ('worst perimeter', 0.22562898567302464, 117.7)\n",
      "1 ('worst concave points', 0.14622893560453026, 0.1772)\n",
      "0 ('perimeter error', 0.14059546313799623, 8.077)\n",
      "0 ('concave points error', 0.0, 0.009567)\n",
      "1 ('compactness error', 0.0, 0.008422)\n",
      "0 ('concave points error', 0.0, 0.007437)\n",
      "0 ('concave points error', 0.0, 0.006719)\n"
     ]
    }
   ],
   "source": [
    "# create model\n",
    "x.createTree()"
   ]
  },
  {
   "cell_type": "code",
   "execution_count": 947,
   "metadata": {},
   "outputs": [
    {
     "data": {
      "text/plain": [
       "['N_2',\n",
       " 'end+N_2',\n",
       " 'N_2+0_1',\n",
       " 'end+N_2+0_1',\n",
       " 'N_2+0_1+0_0',\n",
       " 'end+N_2+0_1+0_0',\n",
       " 'N_2+0_1+1_0',\n",
       " 'end+N_2+0_1+1_0',\n",
       " 'N_2+1_1',\n",
       " 'end+N_2+1_1',\n",
       " 'N_2+1_1+0_0',\n",
       " 'end+N_2+1_1+0_0',\n",
       " 'N_2+1_1+1_0',\n",
       " 'end+N_2+1_1+1_0']"
      ]
     },
     "execution_count": 947,
     "metadata": {},
     "output_type": "execute_result"
    }
   ],
   "source": [
    "\"\"\" \n",
    "The keys in this dictionary show you the decision tree nodes: \n",
    "N_A+B_C+D : A and C are levels of depth, B and D are the child nodes, \n",
    "0 is the left or lower-value child node, 1 is the right or higher-value child node\n",
    "\"\"\"\n",
    "list(MODEL)"
   ]
  },
  {
   "cell_type": "code",
   "execution_count": 948,
   "metadata": {},
   "outputs": [
    {
     "data": {
      "text/plain": [
       "{'N_2': ('worst perimeter', 0.22562898567302464, 117.7),\n",
       " 'end+N_2': 1,\n",
       " 'N_2+0_1': ('worst concave points', 0.14622893560453026, 0.1772),\n",
       " 'end+N_2+0_1': 1,\n",
       " 'N_2+0_1+0_0': ('perimeter error', 0.14059546313799623, 8.077),\n",
       " 'end+N_2+0_1+0_0': 1,\n",
       " 'N_2+0_1+1_0': ('concave points error', 0.0, 0.009567),\n",
       " 'end+N_2+0_1+1_0': 0,\n",
       " 'N_2+1_1': ('compactness error', 0.0, 0.008422),\n",
       " 'end+N_2+1_1': 0,\n",
       " 'N_2+1_1+0_0': ('concave points error', 0.0, 0.007437),\n",
       " 'end+N_2+1_1+0_0': 1,\n",
       " 'N_2+1_1+1_0': ('concave points error', 0.0, 0.006719),\n",
       " 'end+N_2+1_1+1_0': 0}"
      ]
     },
     "execution_count": 948,
     "metadata": {},
     "output_type": "execute_result"
    }
   ],
   "source": [
    "MODEL"
   ]
  },
  {
   "cell_type": "markdown",
   "metadata": {},
   "source": [
    "# Predict"
   ]
  },
  {
   "cell_type": "code",
   "execution_count": 949,
   "metadata": {},
   "outputs": [],
   "source": [
    "# Function to predict one datapoint with a single datapoing (a row of a dataframe) and the model dictionary output from above\n",
    "def model_predict_single(model, data):\n",
    "    direction = {}\n",
    "    name = 'N_%s' % str(D-1)\n",
    "    counter = D-1\n",
    "    \n",
    "    while name in MODEL:\n",
    "        prev_name = name\n",
    "        feature = MODEL[name][0]\n",
    "        criterion = MODEL[name][2]\n",
    "        \n",
    "        if data[feature] >= criterion:\n",
    "            name = name + '+1'\n",
    "        else:\n",
    "            name = name + '+0'\n",
    "        \n",
    "        counter -= 1\n",
    "        name = name + '_%s' % counter\n",
    "    \n",
    "    outName = 'end+%s' % prev_name\n",
    "    \n",
    "    outClass = MODEL[outName]\n",
    "    \n",
    "    return outClass"
   ]
  },
  {
   "cell_type": "markdown",
   "metadata": {},
   "source": [
    "# Calculate AUCs"
   ]
  },
  {
   "cell_type": "code",
   "execution_count": 950,
   "metadata": {},
   "outputs": [],
   "source": [
    "# load libraries\n",
    "from sklearn import metrics\n",
    "import matplotlib.pyplot as plt"
   ]
  },
  {
   "cell_type": "code",
   "execution_count": 951,
   "metadata": {},
   "outputs": [],
   "source": [
    "# training set\n",
    "gt_train = []\n",
    "predict_train = []\n",
    "\n",
    "for i in range(X.shape[0]):\n",
    "    test_data = X.iloc[i]\n",
    "    test_label = y.iloc[i]\n",
    "    \n",
    "    predict_train.append(model_predict_single(MODEL, test_data))\n",
    "    gt_train.append(test_label)"
   ]
  },
  {
   "cell_type": "code",
   "execution_count": 952,
   "metadata": {},
   "outputs": [],
   "source": [
    "# testing set\n",
    "gt_test = []\n",
    "predict_test = []\n",
    "\n",
    "for i in range(test_X.shape[0]):\n",
    "    test_data = test_X.iloc[i]\n",
    "    test_label = test_y.iloc[i]\n",
    "    \n",
    "    predict_test.append(model_predict_single(MODEL, test_data))\n",
    "    gt_test.append(test_label)"
   ]
  },
  {
   "cell_type": "markdown",
   "metadata": {},
   "source": [
    "Calculate the AUCs and draw ROC curves here"
   ]
  },
  {
   "cell_type": "code",
   "execution_count": 953,
   "metadata": {},
   "outputs": [
    {
     "data": {
      "image/png": "[encoded data removed]",
      "text/plain": [
       "<Figure size 432x288 with 1 Axes>"
      ]
     },
     "metadata": {
      "needs_background": "light"
     },
     "output_type": "display_data"
    }
   ],
   "source": [
    "# train set\n",
    "fig, ax = plt.subplots()\n",
    "fpr, tpr, threshold = metrics.roc_curve(gt_train, predict_train, pos_label = max(pd.unique(y)))\n",
    "roc_auc = metrics.auc(fpr, tpr)\n",
    "display1 = metrics.RocCurveDisplay(fpr=fpr, tpr=tpr, roc_auc=roc_auc, estimator_name='Training Set')\n",
    "display1.plot(ax=ax)\n",
    "\n",
    "# test set\n",
    "fpr, tpr, threshold = metrics.roc_curve(gt_test, predict_test, pos_label = max(pd.unique(y)))\n",
    "roc_auc = metrics.auc(fpr, tpr)\n",
    "display2 = metrics.RocCurveDisplay(fpr=fpr, tpr=tpr, roc_auc=roc_auc, estimator_name='Testing Set')\n",
    "display2.plot(ax=ax)\n",
    "\n",
    "plt.title(\"Decision Tree Performance\")\n",
    "plt.show()"
   ]
  },
  {
   "cell_type": "code",
   "execution_count": null,
   "metadata": {},
   "outputs": [],
   "source": []
  }
 ],
 "metadata": {
  "kernelspec": {
   "display_name": "Python 3",
   "language": "python",
   "name": "python3"
  },
  "language_info": {
   "codemirror_mode": {
    "name": "ipython",
    "version": 3
   },
   "file_extension": ".py",
   "mimetype": "text/x-python",
   "name": "python",
   "nbconvert_exporter": "python",
   "pygments_lexer": "ipython3",
   "version": "3.8.5"
  }
 },
 "nbformat": 4,
 "nbformat_minor": 4
}
