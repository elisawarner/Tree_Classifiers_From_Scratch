{
 "cells": [
  {
   "cell_type": "markdown",
   "metadata": {},
   "source": [
    "# Random Forest"
   ]
  },
  {
   "cell_type": "markdown",
   "metadata": {},
   "source": [
    "**Author:** Elisa Warner  \n",
    "**Date:** 04/29/2022  \n",
    "**Description:** An implementation of Random Forest. In this case, we use sklearn's decision tree for simplification"
   ]
  },
  {
   "cell_type": "code",
   "execution_count": 294,
   "metadata": {},
   "outputs": [],
   "source": [
    "# load libraries\n",
    "from sklearn.datasets import load_breast_cancer\n",
    "from sklearn.metrics import roc_curve, auc\n",
    "from sklearn import tree # for decision tree models\n",
    "import numpy as np\n",
    "import matplotlib.pyplot as plt"
   ]
  },
  {
   "cell_type": "code",
   "execution_count": 295,
   "metadata": {},
   "outputs": [],
   "source": [
    "# load data\n",
    "X, y = load_breast_cancer(return_X_y=True, as_frame=True)\n",
    "depth = 3\n",
    "numTrees = 10"
   ]
  },
  {
   "cell_type": "code",
   "execution_count": 300,
   "metadata": {},
   "outputs": [],
   "source": [
    "class RandomForest():\n",
    "    def __init__(self, data, labels, depth, numTrees):\n",
    "        self.data = data\n",
    "        self.labels = labels\n",
    "        self.depth = depth\n",
    "        self.numTrees = numTrees\n",
    "        self.rowSize = data.shape[0]\n",
    "    \n",
    "    def sample(self, data, labels, p, num_feat_bag = 0):\n",
    "        rowSize = data.shape[0]\n",
    "        m = int(rowSize * p)\n",
    "        idx = np.random.choice(data.index.values, m, replace = False)\n",
    "        \n",
    "        if num_feat_bag > 0:\n",
    "            feat_bag = np.random.choice(list(data), num_feat_bag, replace = False)\n",
    "            return data.loc[idx][feat_bag], labels.loc[idx]\n",
    "        else:\n",
    "            return data.loc[idx], labels.loc[idx]\n",
    "\n",
    "    def createTree(self):\n",
    "        # create oob set, train set\n",
    "        self.train, self.trainLabels = self.sample(self.data, self.labels, 0.7)\n",
    "        oob_idx = np.array(list(set(self.data.index.values) - set(self.train.index.values)))\n",
    "        self.test = self.data.loc[oob_idx]\n",
    "        self.testLabels = self.labels.loc[oob_idx]\n",
    "        print('Train size:', self.train.shape, '\\nTest size:', self.test.shape)\n",
    "        \n",
    "        # create forest\n",
    "        self.forest = []\n",
    "        self.featureList = []\n",
    "        for i in range(numTrees):\n",
    "            treeData, treeLabels = self.sample(self.train, self.labels, 0.7, self.depth) # bootstrap, restrict feature bag\n",
    "            self.featureList.append(list(treeData))\n",
    "            \n",
    "            clf = tree.DecisionTreeClassifier(random_state = 0)\n",
    "            model = clf.fit(treeData, treeLabels)\n",
    "            self.forest.append(model)\n",
    "    \n",
    "    # gather the trees togther and average the result\n",
    "    def assessTree(self, data):\n",
    "        treeOutput = np.zeros((self.numTrees, data.shape[0]))\n",
    "        for idx, model in enumerate(self.forest):\n",
    "            treeOutput[idx, :] = treeOutput[idx, :] + model.predict_proba(data[self.featureList[idx]])[:,1]\n",
    "        \n",
    "        return np.sum(treeOutput, axis = 0) / numTrees\n",
    "    \n",
    "    def oobTest(self):\n",
    "        # predict results\n",
    "        predicted = self.assessTree(self.test)\n",
    "        \n",
    "        # Code quoted from https://scikit-learn.org/stable/auto_examples/model_selection/plot_roc.html#sphx-glr-auto-examples-model-selection-plot-roc-py\n",
    "        fpr, tpr, _ = roc_curve(self.testLabels, predicted)\n",
    "        roc_auc = auc(fpr, tpr)\n",
    "        \n",
    "        plt.figure()\n",
    "        lw = 2\n",
    "        plt.plot(\n",
    "            fpr,\n",
    "            tpr,\n",
    "            color=\"darkorange\",\n",
    "            lw=lw,\n",
    "            label=\"ROC curve (area = %0.2f)\" % roc_auc,\n",
    "        )\n",
    "        plt.plot([0, 1], [0, 1], color=\"navy\", lw=lw, linestyle=\"--\")\n",
    "        plt.xlim([0.0, 1.0])\n",
    "        plt.ylim([0.0, 1.05])\n",
    "        plt.xlabel(\"False Positive Rate\")\n",
    "        plt.ylabel(\"True Positive Rate\")\n",
    "        plt.title(\"Receiver operating curve for OOB Test Set\")\n",
    "        plt.legend(loc=\"lower right\")\n",
    "        plt.show()"
   ]
  },
  {
   "cell_type": "code",
   "execution_count": 301,
   "metadata": {},
   "outputs": [
    {
     "name": "stdout",
     "output_type": "stream",
     "text": [
      "Train size: (398, 30) \n",
      "Test size: (171, 30)\n"
     ]
    },
    {
     "data": {
      "image/png": "[encoded data removed]",
      "text/plain": [
       "<Figure size 432x288 with 1 Axes>"
      ]
     },
     "metadata": {
      "needs_background": "light"
     },
     "output_type": "display_data"
    }
   ],
   "source": [
    "a = RandomForest(X, y, depth, numTrees)\n",
    "a.createTree()\n",
    "a.oobTest()"
   ]
  },
  {
   "cell_type": "code",
   "execution_count": null,
   "metadata": {},
   "outputs": [],
   "source": []
  }
 ],
 "metadata": {
  "kernelspec": {
   "display_name": "Python 3",
   "language": "python",
   "name": "python3"
  },
  "language_info": {
   "codemirror_mode": {
    "name": "ipython",
    "version": 3
   },
   "file_extension": ".py",
   "mimetype": "text/x-python",
   "name": "python",
   "nbconvert_exporter": "python",
   "pygments_lexer": "ipython3",
   "version": "3.8.8"
  }
 },
 "nbformat": 4,
 "nbformat_minor": 4
}
