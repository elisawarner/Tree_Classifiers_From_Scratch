{
 "cells": [
  {
   "cell_type": "markdown",
   "metadata": {},
   "source": [
    "# Random Forest"
   ]
  },
  {
   "cell_type": "markdown",
   "metadata": {},
   "source": [
    "**Author:** Elisa Warner  \n",
    "**Date:** 04/29/2022  \n",
    "**Description:** An implementation of Random Forest. In this case, we use sklearn's decision tree for simplification"
   ]
  },
  {
   "cell_type": "code",
   "execution_count": 2,
   "metadata": {},
   "outputs": [],
   "source": [
    "# load libraries\n",
    "from sklearn.datasets import load_breast_cancer\n",
    "from sklearn.metrics import roc_curve, auc\n",
    "from sklearn import tree # for decision tree models\n",
    "import numpy as np\n",
    "import matplotlib.pyplot as plt"
   ]
  },
  {
   "cell_type": "code",
   "execution_count": 3,
   "metadata": {},
   "outputs": [],
   "source": [
    "# load data\n",
    "X, y = load_breast_cancer(return_X_y=True, as_frame=True)\n",
    "depth = 3\n",
    "numTrees = 10"
   ]
  },
  {
   "cell_type": "code",
   "execution_count": 17,
   "metadata": {},
   "outputs": [],
   "source": [
    "class RandomForest():\n",
    "    def __init__(self, data, labels, depth, numTrees):\n",
    "        self.data = data\n",
    "        self.labels = labels\n",
    "        self.depth = depth\n",
    "        self.numTrees = numTrees\n",
    "        self.rowSize = data.shape[0]\n",
    "        self.featureList = []\n",
    "        self.forest = []\n",
    "        # the below variable is the number of features which will be included in each bootstrapped sample for each tree in the forest\n",
    "        self.numFeatures = np.max((self.depth, int(0.3 * len(list(data)))))\n",
    "        \n",
    "        # create oob set, train set\n",
    "        self.train, self.trainLabels = self.sample(self.data, self.labels, 0.7)\n",
    "        oob_idx = np.array(list(set(self.data.index.values) - set(self.train.index.values)))\n",
    "        self.test = self.data.loc[oob_idx]\n",
    "        self.testLabels = self.labels.loc[oob_idx]\n",
    "        print('Train size:', self.train.shape, '\\nTest size:', self.test.shape)      \n",
    "    \n",
    "    \n",
    "    \"\"\"\n",
    "    [FUNCTION] sample()\n",
    "        Input: dataframe of data, series of the labels, percent of dataset to sample, number of features allowed in feature bag\n",
    "        Output: [dataFrame] One bootstrapped sample of the data based on the input parameters \n",
    "    \"\"\"\n",
    "    def sample(self, data, labels, p, num_feat_bag = 0):\n",
    "        rowSize = data.shape[0]\n",
    "        m = int(rowSize * p)\n",
    "        idx = np.random.choice(np.arange(rowSize), m, replace = False)\n",
    "        \n",
    "        if num_feat_bag > 0:\n",
    "            feat_bag = np.random.choice(list(data), num_feat_bag, replace = False)\n",
    "            return data.iloc[idx][feat_bag], labels.iloc[idx]\n",
    "        else:\n",
    "            return data.iloc[idx], labels.iloc[idx]\n",
    "\n",
    "    \"\"\"\n",
    "    [FUNCTION] createTree()\n",
    "        Input: None\n",
    "        Output: None\n",
    "        Description: Creates the Random \"Forest\" from multiple decision trees\n",
    "    \"\"\"\n",
    "    def createTree(self, data, labels):\n",
    "        \n",
    "        forest = []\n",
    "        features = []\n",
    "        \n",
    "        # create forest\n",
    "        for i in range(numTrees):\n",
    "            treeData, treeLabels = self.sample(data, labels, 0.7, self.numFeatures) # bootstrap, restrict feature bag\n",
    "            features.append(list(treeData))\n",
    "            \n",
    "            clf = tree.DecisionTreeClassifier(random_state = 0)\n",
    "            model = clf.fit(treeData, treeLabels)\n",
    "            forest.append(model)\n",
    "        \n",
    "        return (forest, features)\n",
    "\n",
    "    \"\"\"\n",
    "    [FUNCTION] randomForest()\n",
    "        Input: None\n",
    "        Output: None\n",
    "        Description: runs the Random Forest model\n",
    "    \"\"\"\n",
    "    def randomForest(self):\n",
    "        (forest, features) = self.createTree(self.train, self.trainLabels)\n",
    "        self.forest = self.forest + forest\n",
    "        self.featureList = self.featureList + features\n",
    "    \n",
    "    \"\"\"\n",
    "    [FUNCTION] createTree()\n",
    "        Input: dataframe of data\n",
    "        Output: [numpy array] the random forest prediction probability outputs\n",
    "    \"\"\"\n",
    "    # gather the trees togther and average the result\n",
    "    def predictFromTree(self, data, forest, featureList):\n",
    "        treeOutput = np.zeros((self.numTrees, data.shape[0]))\n",
    "        for idx, model in enumerate(forest):\n",
    "            treeOutput[idx, :] = treeOutput[idx, :] + model.predict_proba(data[featureList[idx]])[:,1]\n",
    "        \n",
    "        return np.sum(treeOutput, axis = 0) / numTrees\n",
    "    \n",
    "    \n",
    "    \"\"\"\n",
    "    [FUNCTION] oobTest()\n",
    "        Input: None\n",
    "        Output: None\n",
    "        Description: Outputs the ROC curve for RandomForest predictions\n",
    "    \"\"\"\n",
    "    def runTest(self, testdata, testlabels, forest, featureList):\n",
    "        # predict results\n",
    "        predicted = self.predictFromTree(testdata, forest, featureList)\n",
    "        \n",
    "        # Code quoted from https://scikit-learn.org/stable/auto_examples/model_selection/plot_roc.html#sphx-glr-auto-examples-model-selection-plot-roc-py\n",
    "        fpr, tpr, _ = roc_curve(testlabels, predicted)\n",
    "        roc_auc = auc(fpr, tpr)\n",
    "        \n",
    "        plt.figure()\n",
    "        lw = 2\n",
    "        plt.plot(\n",
    "            fpr,\n",
    "            tpr,\n",
    "            color=\"darkorange\",\n",
    "            lw=lw,\n",
    "            label=\"ROC curve (area = %0.2f)\" % roc_auc,\n",
    "        )\n",
    "        plt.plot([0, 1], [0, 1], color=\"navy\", lw=lw, linestyle=\"--\")\n",
    "        plt.xlim([0.0, 1.0])\n",
    "        plt.ylim([0.0, 1.05])\n",
    "        plt.xlabel(\"False Positive Rate\")\n",
    "        plt.ylabel(\"True Positive Rate\")\n",
    "        plt.title(\"Receiver operating curve for OOB Test Set\")\n",
    "        plt.legend(loc=\"lower right\")\n",
    "        plt.show()\n",
    "    \n",
    "    \"\"\"\n",
    "    [FUNCTION] oobTest()\n",
    "        Input: None\n",
    "        Output: None\n",
    "        Description: Test non-privileged RF with OOB sample\n",
    "    \"\"\"\n",
    "    def oobTest(self):\n",
    "        self.runTest(self.test, self.testLabels, self.forest, self.featureList)"
   ]
  },
  {
   "cell_type": "code",
   "execution_count": 18,
   "metadata": {},
   "outputs": [
    {
     "name": "stdout",
     "output_type": "stream",
     "text": [
      "Train size: (398, 30) \n",
      "Test size: (171, 30)\n"
     ]
    },
    {
     "data": {
      "image/png": "[encoded data removed]",
      "text/plain": [
       "<Figure size 432x288 with 1 Axes>"
      ]
     },
     "metadata": {
      "needs_background": "light"
     },
     "output_type": "display_data"
    }
   ],
   "source": [
    "a = RandomForest(X, y, depth, numTrees)\n",
    "a.randomForest()\n",
    "a.oobTest()"
   ]
  },
  {
   "cell_type": "code",
   "execution_count": null,
   "metadata": {},
   "outputs": [],
   "source": []
  }
 ],
 "metadata": {
  "kernelspec": {
   "display_name": "Python 3",
   "language": "python",
   "name": "python3"
  },
  "language_info": {
   "codemirror_mode": {
    "name": "ipython",
    "version": 3
   },
   "file_extension": ".py",
   "mimetype": "text/x-python",
   "name": "python",
   "nbconvert_exporter": "python",
   "pygments_lexer": "ipython3",
   "version": "3.8.8"
  }
 },
 "nbformat": 4,
 "nbformat_minor": 4
}
